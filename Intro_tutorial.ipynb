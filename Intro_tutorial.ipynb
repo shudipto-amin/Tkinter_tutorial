{
 "cells": [
  {
   "cell_type": "markdown",
   "metadata": {},
   "source": [
    "## IMPORTS"
   ]
  },
  {
   "cell_type": "code",
   "execution_count": 14,
   "metadata": {},
   "outputs": [],
   "source": [
    "import tkinter as tk"
   ]
  },
  {
   "cell_type": "markdown",
   "metadata": {
    "toc-hr-collapsed": true
   },
   "source": [
    "# Background\n",
    "This tutorial follows [this video](https://youtu.be/YXPyB4XeYLA)\n",
    "\n",
    "## Some terminology:\n",
    "* Widgets - everything is widgets, the window widget, label widget etc"
   ]
  },
  {
   "cell_type": "markdown",
   "metadata": {},
   "source": [
    "# Basic widget creation and running loop"
   ]
  },
  {
   "cell_type": "code",
   "execution_count": null,
   "metadata": {},
   "outputs": [],
   "source": [
    "# Creating the widgets\n",
    "root = tk.Tk()\n",
    "myLabel = tk.Label(root, text='Hello World')\n",
    "\n",
    "# Putting the content on screen\n",
    "myLabel.pack() # Pack it into root, barely fitting"
   ]
  },
  {
   "cell_type": "code",
   "execution_count": null,
   "metadata": {},
   "outputs": [],
   "source": [
    "# Running the loop \n",
    "root.mainloop()"
   ]
  },
  {
   "cell_type": "markdown",
   "metadata": {
    "tags": [],
    "toc-hr-collapsed": true
   },
   "source": [
    "# Using Grid System"
   ]
  },
  {
   "cell_type": "code",
   "execution_count": null,
   "metadata": {},
   "outputs": [],
   "source": [
    "# Create\n",
    "root = tk.Tk()\n",
    "Label0 = tk.Label(root, text=\"header\")\n",
    "Label1 = tk.Label(root, text='r1,c1')\n",
    "Label2 = tk.Label(root, text='r1,c2')\n",
    "Label3 = tk.Label(root, text='r2span')\n",
    "\n",
    "# Put on screen using grid for relative  location\n",
    "Label0.grid(row=0, column=0, columnspan=2)\n",
    "Label1.grid(row=1, column=0)\n",
    "Label2.grid(row=1, column=1)\n",
    "Label3.grid(row=2,column=0, columnspan=3)\n",
    "\n",
    "# Running the loops\n",
    "root.mainloop()"
   ]
  },
  {
   "cell_type": "markdown",
   "metadata": {
    "tags": []
   },
   "source": [
    "## Try:\n",
    "* changing the column number to higher numbers\n",
    "* The column numbering and placement is \"relative\""
   ]
  },
  {
   "cell_type": "markdown",
   "metadata": {},
   "source": [
    "# Creating Buttons"
   ]
  },
  {
   "cell_type": "code",
   "execution_count": null,
   "metadata": {},
   "outputs": [],
   "source": [
    "root = tk.Tk()\n",
    "\n",
    "def on_click():\n",
    "    lab = tk.Label(root, text=\"button clicked!\")\n",
    "    lab.pack()\n",
    "    \n",
    "Butt = tk.Button(\n",
    "    root, \n",
    "    text=\"Click Me\", \n",
    "    #state=tk.DISABLED, # grey out\n",
    "    padx=50,\n",
    "    pady=20,\n",
    "    command=on_click\n",
    "    \n",
    ")\n",
    "\n",
    "Butt.pack()\n",
    "root.mainloop()"
   ]
  },
  {
   "cell_type": "markdown",
   "metadata": {
    "toc-hr-collapsed": true
   },
   "source": [
    "# Allowing user input with Entry widget"
   ]
  },
  {
   "cell_type": "code",
   "execution_count": null,
   "metadata": {},
   "outputs": [],
   "source": [
    "root = tk.Tk()\n",
    "\n",
    "\n",
    "Enter = tk.Entry(\n",
    "    root,\n",
    "    width = 50,\n",
    "    bg = \"black\",\n",
    "    fg = \"yellow\",\n",
    ")\n",
    "\n",
    "Enter.insert(0, \"Insert Text\") # Default text\n",
    "Enter.pack()\n",
    "\n",
    "## make the button \"get\" information from Enter\n",
    "def on_click():   \n",
    "    text = Enter.get()\n",
    "    lab = tk.Label(root, text=f\"You typed {text}\")\n",
    "    lab.pack()\n",
    "    print()\n",
    "    \n",
    "Butt = tk.Button(\n",
    "    root, \n",
    "    text=\"Click Me\", \n",
    "    #state=tk.DISABLED, # grey out\n",
    "    padx=50,\n",
    "    pady=20,\n",
    "    command=on_click\n",
    "    \n",
    ")\n",
    "\n",
    "Butt.pack()\n",
    "\n",
    "def click_delete():   \n",
    "    Enter.delete(0,len(Enter.get()))\n",
    "    \n",
    "Del = tk.Button(\n",
    "    root, \n",
    "    text=\"Delete Me\", \n",
    "    #state=tk.DISABLED, # grey out\n",
    "    padx=50,\n",
    "    pady=20,\n",
    "    command=click_delete\n",
    "    \n",
    ")\n",
    "\n",
    "Del.pack()\n",
    "\n",
    "root.mainloop()"
   ]
  },
  {
   "cell_type": "markdown",
   "metadata": {
    "toc-hr-collapsed": true
   },
   "source": [
    "# Exercise: Simple Calculator\n",
    "* Has buttons for all numbers\n",
    "\n",
    "## New Info!\n",
    "* You can access any property of a widget using the name of the kwarg:\n",
    "    - Eg.\n",
    "    ```\n",
    "    >>> Butt = Button(root, text=\"text\")\n",
    "    >>> print(Butt['text']) # equivalently, Butt.cget('text')\n",
    "    ... \"text\"\n",
    "    >>> Butt['text'] = \"other_text\" # will update the property\n",
    "    ```\n",
    "* You can use `tk.END` to specify end index where applicable\n",
    "    - Eg.\n",
    "    ```\n",
    "    >>> display.delete(0, tk.END) # deletes everything in display\n",
    "    ```"
   ]
  },
  {
   "cell_type": "code",
   "execution_count": 18,
   "metadata": {},
   "outputs": [],
   "source": [
    "import operator as OP"
   ]
  },
  {
   "cell_type": "code",
   "execution_count": 19,
   "metadata": {},
   "outputs": [],
   "source": [
    "MEMORY = [] # container for numbers to remember\n",
    "OPERATION = []\n",
    "\n",
    "class Button_Digit(tk.Button):\n",
    "    '''\n",
    "    A class for Digit Buttons with added `value` attribute and `on_click` method\n",
    "    '''\n",
    "    def __init__(self,  *args, **kwargs):\n",
    "        tk.Button.__init__(self, *args, **kwargs)\n",
    "        self['command'] = self.on_click\n",
    "        \n",
    "    def on_click(self):\n",
    "        text = display.get()\n",
    "        display.insert(len(text), self.cget('text'))\n",
    "        \n",
    "class Button_operation(tk.Button):\n",
    "    '''\n",
    "    A class for operation buttons with added `on_click` method and `operation` attribute\n",
    "    \n",
    "    `operation` : a function\n",
    "    '''\n",
    "    def __init__(self, operation, *args, **kwargs):\n",
    "        tk.Button.__init__(self, *args, **kwargs)\n",
    "        self.operation = operation\n",
    "        self['command'] = self.on_click\n",
    "        \n",
    "    def on_click(self):\n",
    "        \n",
    "        \n",
    "        if MEMORY:\n",
    "            Button_evaluate.on_click(show_result=False)\n",
    "            \n",
    "        MEMORY.append(float(display.get()))\n",
    "        OPERATION.append(self.operation)    \n",
    "        display.delete(0, tk.END )\n",
    "        \n",
    "class Button_evaluate(tk.Button):\n",
    "    '''\n",
    "    A class for evaluation (=) button\n",
    "    '''\n",
    "    \n",
    "    def __init__(self, *args, **kwargs):\n",
    "        tk.Button.__init__(self, *args, **kwargs)\n",
    "        self['command'] = self.on_click\n",
    "        \n",
    "    def on_click(self, show_result=True):\n",
    "        if (not MEMORY) or (not display.get()) :\n",
    "            return None\n",
    "        num1 = MEMORY[0]\n",
    "        num2 = float(display.get())\n",
    "        \n",
    "        result = OPERATION[0](num1, num2)\n",
    "        \n",
    "        MEMORY.clear()\n",
    "        OPERATION.clear()\n",
    "        display.delete(0, tk.END)\n",
    "        if show_result:\n",
    "            display.insert(0, result)\n",
    "        \n",
    "        "
   ]
  },
  {
   "cell_type": "code",
   "execution_count": 20,
   "metadata": {},
   "outputs": [
    {
     "name": "stderr",
     "output_type": "stream",
     "text": [
      "Exception in Tkinter callback\n",
      "Traceback (most recent call last):\n",
      "  File \"/home/kaziamin/anaconda3/lib/python3.7/tkinter/__init__.py\", line 1705, in __call__\n",
      "    return self.func(*args)\n",
      "  File \"<ipython-input-19-f7903b75fed8>\", line 52, in on_click\n",
      "    result = OPERATION[0](num1, num2)\n",
      "ZeroDivisionError: float division by zero\n"
     ]
    }
   ],
   "source": [
    "root = tk.Tk()\n",
    "root.title(\"Simple Calculator\")\n",
    "\n",
    "# === Display\n",
    "display = tk.Entry(\n",
    "    root,\n",
    "    width = 35,\n",
    "    borderwidth=5\n",
    ")\n",
    "\n",
    "display.grid(\n",
    "    row = 0, column= 0,\n",
    "    columnspan = 3,\n",
    "    padx=5, pady=5\n",
    ")\n",
    "\n",
    "# === Digits\n",
    "\n",
    "digits = []\n",
    "for n in range(10):\n",
    "    digit = Button_Digit(\n",
    "        root, text=f\"{n}\", padx=40, pady=20\n",
    "    )\n",
    "   \n",
    "    digits.append(digit)\n",
    "    \n",
    "i = 1\n",
    "for m in range(1,4):\n",
    "    for n in range(3):\n",
    "        digits[i].grid(row=m, column=n)\n",
    "\n",
    "        i += 1\n",
    "\n",
    "max_col = n+1\n",
    "max_row = m+1\n",
    "\n",
    "digits[0].grid(row = max_row, column=n//2)\n",
    "max_row +=1\n",
    "   \n",
    "# === Eval button\n",
    "eval_butt = Button_evaluate(text = \"=\", padx=40, pady=20)\n",
    "eval_butt.grid(row=0, column=max_col)\n",
    "# === The Operation buttons\n",
    "\n",
    "oper_butts = [\n",
    "    Button_operation(OP.add, text = \"+\", padx=40, pady=20),\n",
    "    Button_operation(OP.sub, text = \"-\",padx=40, pady=20),\n",
    "    Button_operation(OP.mul, text = \"*\",padx=40, pady=20),\n",
    "    Button_operation(OP.truediv, text = \"/\",padx=40, pady=20),\n",
    "]\n",
    "\n",
    "for n, butt in enumerate(oper_butts):\n",
    "    butt.grid(row = n+1, column = max_col)\n",
    "    \n",
    "max_col += 1\n",
    "root.mainloop()\n",
    "        "
   ]
  },
  {
   "cell_type": "markdown",
   "metadata": {
    "tags": []
   },
   "source": [
    "# Icons, Exit button, and Images"
   ]
  },
  {
   "cell_type": "code",
   "execution_count": null,
   "metadata": {},
   "outputs": [],
   "source": [
    "from PIL import ImageTk, Image"
   ]
  },
  {
   "cell_type": "code",
   "execution_count": 102,
   "metadata": {},
   "outputs": [],
   "source": [
    "root = tk.Tk()\n",
    "root.title(\"Title\")\n",
    "root.geometry(\"400x400\")\n",
    "#root.iconbitmap(r\"/home/kaziamin/Desktop/Icons/Fairy.ico\")\n",
    "\n",
    "\n",
    "image = ImageTk.PhotoImage(\n",
    "    Image.open(\n",
    "           \"/home/kaziamin/Desktop/Icons/Fairy.png\"\n",
    "            ).resize((250,250))\n",
    ")\n",
    "      \n",
    "\n",
    "\n",
    "lab = tk.Label(\n",
    "    root,\n",
    "    image=image\n",
    ")\n",
    "\n",
    "exit_butt = tk.Button(\n",
    "    root,\n",
    "    text = \"Exit\",\n",
    "    command = root.destroy\n",
    ")\n",
    "\n",
    "lab.pack()\n",
    "exit_butt.pack()\n",
    "root.mainloop()"
   ]
  },
  {
   "cell_type": "markdown",
   "metadata": {
    "toc-hr-collapsed": true
   },
   "source": [
    "# Exercise: An Image Viewer app\n",
    "\n",
    "## New info!\n",
    "* Border (`bd`) and `relief` keywords in widget kwargs \n",
    "* Anchoring (`anchor`) and `sticky`\n",
    "* The `geometry` method\n"
   ]
  },
  {
   "cell_type": "code",
   "execution_count": 15,
   "metadata": {},
   "outputs": [],
   "source": [
    "from PIL import ImageTk, Image\n",
    "import os"
   ]
  },
  {
   "cell_type": "code",
   "execution_count": 26,
   "metadata": {},
   "outputs": [],
   "source": [
    "class Glob:\n",
    "    image_ind = 0\n",
    "\n",
    "def scale_image(img, factor):\n",
    "    x, y = img.size\n",
    "    return img.resize(\n",
    "        ( int(round(factor*x)), int(round(factor*y )) )\n",
    "    )\n",
    "\n",
    "def get_navigator_functions(images, window):\n",
    "    N = len(images)\n",
    "    def click_left():\n",
    "        Glob.image_ind -= 1\n",
    "        Glob.image_ind = Glob.image_ind % N\n",
    "        window['image'] = images[Glob.image_ind]\n",
    "        status_bar[\"text\"] = f\"Image {Glob.image_ind+1}\"\n",
    "\n",
    "    def click_right():\n",
    "        Glob.image_ind += 1\n",
    "        Glob.image_ind = Glob.image_ind % N\n",
    "        window['image'] = images[Glob.image_ind]\n",
    "        status_bar[\"text\"] = f\"Image {Glob.image_ind+1}\"\n",
    "        \n",
    "    return click_left, click_right"
   ]
  },
  {
   "cell_type": "code",
   "execution_count": 106,
   "metadata": {},
   "outputs": [],
   "source": [
    "root = tk.Tk()\n",
    "root.title(\"Image Viewer\")\n",
    "root.geometry(\"800x600\")\n",
    "folder = \"/home/kaziamin/Downloads/pictures/Photos-001/\"\n",
    "\n",
    "images = []\n",
    "for fname in os.listdir(folder):\n",
    "    with Image.open(f\"{folder}/{fname}\") as img:\n",
    "        nimg = scale_image(img, 0.25).rotate(-90)\n",
    "        images.append(\n",
    "            ImageTk.PhotoImage(nimg)\n",
    "        )\n",
    "        images.append(\n",
    "            ImageTk.PhotoImage(scale_image(nimg,0.5))\n",
    "        )\n",
    "        \n",
    "# === Widgets\n",
    "\n",
    "window = tk.Label(\n",
    "    image = images[Glob.image_ind]\n",
    ")\n",
    "\n",
    "click_left, click_right = get_navigator_functions(\n",
    "    images, window\n",
    ")\n",
    "\n",
    "button_left = tk.Button(\n",
    "    root,\n",
    "    text = \"<<\",\n",
    "    command = click_left\n",
    ")\n",
    "\n",
    "button_right = tk.Button(\n",
    "    root,\n",
    "    text = \">>\",\n",
    "    command = click_right\n",
    ")\n",
    "\n",
    "button_exit = tk.Button(\n",
    "    root,\n",
    "    text = \"Exit\",\n",
    "    command = root.destroy\n",
    ")\n",
    "\n",
    "status_bar = tk.Label(\n",
    "    root,\n",
    "    text = f\"Image {Glob.image_ind+1}\",\n",
    "    pady = 10,\n",
    "    bd = 1,\n",
    "    relief = tk.SUNKEN,\n",
    "    anchor = tk.S\n",
    ")\n",
    "\n",
    "# === Display\n",
    "\n",
    "window.grid( \n",
    "    row=0, column=0, columnspan=3 ,\n",
    ")\n",
    "button_left.grid( row=1, column=0)\n",
    "button_exit.grid( row=1, column=1)\n",
    "button_right.grid( row=1, column=2)\n",
    "status_bar.grid( \n",
    "    row=2, column=0, \n",
    "    columnspan=3, sticky=tk.E+tk.W,\n",
    "    pady = 10,\n",
    ")\n",
    "\n",
    "root.mainloop()\n",
    "\n",
    "\n"
   ]
  },
  {
   "cell_type": "markdown",
   "metadata": {},
   "source": [
    "# Frames\n",
    "Frames can be used to section the window. Each frame can act similarly to the \"root\" canvas, and can be divided into grids to hold other widgets. "
   ]
  },
  {
   "cell_type": "code",
   "execution_count": 44,
   "metadata": {},
   "outputs": [],
   "source": [
    "root = tk.Tk()\n",
    "\n",
    "# Create 2 frames\n",
    "game_frame = tk.LabelFrame(\n",
    "    root,\n",
    "    text = \"Game window\",\n",
    "    padx = 10,\n",
    "    pady = 10,\n",
    ")\n",
    "\n",
    "menu_frame = tk.LabelFrame(\n",
    "    root,\n",
    "    text = \"Menu\",\n",
    "    padx= 20,\n",
    "    pady = 20,\n",
    ")\n",
    "\n",
    "# Put things in them\n",
    "for m in range(3):\n",
    "    for n in range(3):\n",
    "        cell = tk.Button(\n",
    "            game_frame,\n",
    "            text = 3*m + n,\n",
    "            padx = 5,\n",
    "            pady = 5\n",
    "        )\n",
    "        cell.grid(row=m, column=n)\n",
    "                         \n",
    "menu_dict = dict(\n",
    "    reset = tk.Button(\n",
    "        menu_frame,\n",
    "        text = 'reset'\n",
    "    ),\n",
    "    \n",
    "    quit = tk.Button(\n",
    "        menu_frame,\n",
    "        text = 'quit',\n",
    "        command = root.destroy\n",
    "    )\n",
    "    \n",
    ")\n",
    "\n",
    "for n,key in enumerate(menu_dict):\n",
    "    menu_dict[key].grid( row = n, column= 0)\n",
    "            \n",
    "game_frame.grid(\n",
    "    row=0, column=0,\n",
    "    padx=20, pady=20\n",
    ")\n",
    "menu_frame.grid(\n",
    "    row=0, column = 1,\n",
    "    padx=20, pady=20\n",
    ")\n",
    "root.mainloop()"
   ]
  },
  {
   "cell_type": "markdown",
   "metadata": {
    "toc-hr-collapsed": true
   },
   "source": [
    "# Radio Buttons\n",
    "## New Info!\n",
    "* `RadioButton` takes kwarg called `variable`\n",
    "    - If `variable` of 2 `RadioButtons` are same, the \n",
    "    options are exclusive, otherwise, it is possible to \n",
    "    select more than one.\n",
    "    \n",
    "* `tk.IntVar()` and `tk.StringVar() are 2 ways of creating variable"
   ]
  },
  {
   "cell_type": "code",
   "execution_count": 53,
   "metadata": {},
   "outputs": [],
   "source": [
    "root = tk.Tk()\n",
    "root.title(\"Learn about Radio buttons\")\n",
    "\n",
    "r = tk.IntVar()\n",
    "r.set(0)\n",
    "#s = tk.StringVar()\n",
    "\n",
    "butt_rad = tk.Radiobutton(\n",
    "    root,\n",
    "    text = \"option 1\",\n",
    "    variable = r, value=1\n",
    ").pack()\n",
    "\n",
    "butt_rad2 = tk.Radiobutton(\n",
    "    root,\n",
    "    text = \"option 2\",\n",
    "    variable = r, value=2\n",
    ").pack()\n",
    "\n",
    "label = tk.Label(\n",
    "    root,\n",
    "    text = r.get()\n",
    ").pack()\n",
    "\n",
    "\n",
    "root.mainloop()"
   ]
  },
  {
   "cell_type": "markdown",
   "metadata": {},
   "source": [
    "# Message boxes"
   ]
  },
  {
   "cell_type": "code",
   "execution_count": 56,
   "metadata": {},
   "outputs": [],
   "source": [
    "from tkinter import messagebox as MB"
   ]
  },
  {
   "cell_type": "code",
   "execution_count": 72,
   "metadata": {},
   "outputs": [],
   "source": [
    "root = tk.Tk()\n",
    "display = tk.Label(\n",
    "    root,\n",
    "    text = \"Option chosen\",\n",
    "    relief = tk.SUNKEN\n",
    ")\n",
    "display.pack()\n",
    "\n",
    "msg_types = \"showinfo showwarning showerror \\\n",
    "askquestion askokcancel askyesno\".split()\n",
    "\n",
    "def popup_func(msg):\n",
    "    msg_func = getattr(MB,msg)\n",
    "    def popup():\n",
    "        response = msg_func(\"Popup_Title\", msg)\n",
    "        display[\"text\"]=response\n",
    "        \n",
    "    return popup\n",
    "        \n",
    "    \n",
    "for msg in msg_types:\n",
    "    \n",
    "    tk.Button(\n",
    "        root,\n",
    "        text = msg,\n",
    "        command = popup_func(msg)\n",
    "    ).pack()\n",
    "\n",
    "root.mainloop()\n"
   ]
  },
  {
   "cell_type": "markdown",
   "metadata": {
    "toc-hr-collapsed": true
   },
   "source": [
    "# New Windows\n",
    "\n",
    "## New Info!\n",
    "* The `image` loaded below is garbage collected if defined within the `new_window` function"
   ]
  },
  {
   "cell_type": "code",
   "execution_count": 84,
   "metadata": {},
   "outputs": [],
   "source": [
    "root = tk.Tk()\n",
    "\n",
    "root.title(\"New windows\")\n",
    "\n",
    "image = ImageTk.PhotoImage(\n",
    "    Image.open(\n",
    "           \"/home/kaziamin/Desktop/Icons/Fairy.png\"\n",
    "            ).resize((250,250))\n",
    "    )\n",
    "def new_window():\n",
    "    top = tk.Toplevel()\n",
    "\n",
    "    label_top = tk.Label( top, image=image)\n",
    "    \n",
    "    label_top.pack()\n",
    "    \n",
    "butt_root = tk.Button(\n",
    "    root, text=\"Open Window\",\n",
    "    command = new_window\n",
    ")\n",
    "butt_root.pack()\n",
    "\n",
    "root.mainloop()"
   ]
  },
  {
   "cell_type": "markdown",
   "metadata": {
    "tags": []
   },
   "source": [
    "# Files Dialog Box"
   ]
  },
  {
   "cell_type": "code",
   "execution_count": 88,
   "metadata": {},
   "outputs": [],
   "source": [
    "from tkinter import filedialog as FD\n",
    "from PIL import ImageTk, Image"
   ]
  },
  {
   "cell_type": "code",
   "execution_count": 101,
   "metadata": {},
   "outputs": [
    {
     "name": "stdout",
     "output_type": "stream",
     "text": [
      "/home/kaziamin/Pictures/Screenshot from 2021-07-13 19-25-33.png\n",
      "/home/kaziamin/Pictures/Screenshot from 2021-07-13 19-25-28.png\n"
     ]
    }
   ],
   "source": [
    "root = tk.Tk()\n",
    "root.title(\"file Dialoguer\")\n",
    "\n",
    "def open_image():\n",
    "    root.filename = FD.askopenfilename(\n",
    "        title = \"Select A File\",\n",
    "        initialdir=\"~/Pictures/\",\n",
    "        filetypes=(\n",
    "            (\"png files\", \"*.png\"), \n",
    "            (\"jpg files\", \"*.jpg\"),\n",
    "            (\"all files\", \"*.*\")\n",
    "        )\n",
    "    )\n",
    "    print(root.filename)\n",
    "    \n",
    "    if root.filename:\n",
    "        global img\n",
    "\n",
    "        img = ImageTk.PhotoImage(\n",
    "            Image.open(root.filename)\n",
    "        )\n",
    "\n",
    "        Image_window[\"image\"] = img\n",
    "\n",
    "Image_frame = tk.LabelFrame(\n",
    "    root,\n",
    "    padx = 10,\n",
    "    pady=10\n",
    ")\n",
    "\n",
    "Image_window = tk.Label(\n",
    "    Image_frame,\n",
    "    padx = 10,\n",
    "    pady = 10,\n",
    ")\n",
    "\n",
    "Img_lab = tk.Button(\n",
    "    root,\n",
    "    text = \"Open File\",\n",
    "    command = open_image\n",
    ")\n",
    "    \n",
    "Image_frame.pack()\n",
    "Image_window.pack()\n",
    "Img_lab.pack()\n",
    "root.mainloop()"
   ]
  },
  {
   "cell_type": "markdown",
   "metadata": {},
   "source": [
    "# Checkboxes $TODO$"
   ]
  },
  {
   "cell_type": "markdown",
   "metadata": {},
   "source": [
    "# Dropdown menu $TODO$"
   ]
  },
  {
   "cell_type": "markdown",
   "metadata": {},
   "source": [
    "# More Tutorials\n",
    "https://youtube.com/playlist?list=PLCC34OHNcOtoC6GglhF3ncJ5rLwQrLGnV"
   ]
  },
  {
   "cell_type": "markdown",
   "metadata": {},
   "source": [
    "# HTML in tkinter\n",
    "\n",
    "[resource](https://youtu.be/d6UitRCstiQ)"
   ]
  },
  {
   "cell_type": "code",
   "execution_count": 107,
   "metadata": {},
   "outputs": [
    {
     "ename": "AttributeError",
     "evalue": "module 'tkinter' has no attribute 'font'",
     "output_type": "error",
     "traceback": [
      "\u001b[0;31m---------------------------------------------------------------------------\u001b[0m",
      "\u001b[0;31mAttributeError\u001b[0m                            Traceback (most recent call last)",
      "\u001b[0;32m<ipython-input-107-969063c14a5f>\u001b[0m in \u001b[0;36m<module>\u001b[0;34m\u001b[0m\n\u001b[0;32m----> 1\u001b[0;31m \u001b[0mtk\u001b[0m\u001b[0;34m.\u001b[0m\u001b[0mfont\u001b[0m\u001b[0;34m\u001b[0m\u001b[0;34m\u001b[0m\u001b[0m\n\u001b[0m",
      "\u001b[0;31mAttributeError\u001b[0m: module 'tkinter' has no attribute 'font'"
     ]
    }
   ],
   "source": []
  }
 ],
 "metadata": {
  "kernelspec": {
   "display_name": "Python 3",
   "language": "python",
   "name": "python3"
  },
  "language_info": {
   "codemirror_mode": {
    "name": "ipython",
    "version": 3
   },
   "file_extension": ".py",
   "mimetype": "text/x-python",
   "name": "python",
   "nbconvert_exporter": "python",
   "pygments_lexer": "ipython3",
   "version": "3.7.3"
  },
  "toc-autonumbering": true,
  "toc-showcode": false,
  "toc-showmarkdowntxt": false
 },
 "nbformat": 4,
 "nbformat_minor": 4
}
